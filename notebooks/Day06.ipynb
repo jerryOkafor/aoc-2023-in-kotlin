{
 "cells": [
  {
   "cell_type": "markdown",
   "source": [
    "# This solution uses brute force\n"
   ],
   "metadata": {
    "collapsed": false
   }
  },
  {
   "cell_type": "code",
   "execution_count": null,
   "outputs": [],
   "source": [
    "val input = readInputForNotebook(\"Day06\")\n",
    "input"
   ],
   "metadata": {
    "collapsed": false,
    "is_executing": true
   }
  },
  {
   "cell_type": "code",
   "execution_count": null,
   "outputs": [],
   "source": [
    "val cleanData = input.map { it.substringAfter(\":\") }\n",
    "    .map { it.trim() }\n",
    "    .map { it.split(\"\\\\s+\".toRegex()).map { it.trim().toInt() } }\n",
    "\n",
    "cleanData.println(\"\")"
   ],
   "metadata": {
    "collapsed": false,
    "is_executing": true
   }
  },
  {
   "cell_type": "code",
   "execution_count": null,
   "outputs": [],
   "source": [
    "val (times, distances) = cleanData\n",
    "\n",
    "times"
   ],
   "metadata": {
    "collapsed": false,
    "is_executing": true
   }
  },
  {
   "cell_type": "code",
   "execution_count": null,
   "outputs": [],
   "source": [
    "distances"
   ],
   "metadata": {
    "collapsed": false,
    "is_executing": true
   }
  },
  {
   "cell_type": "code",
   "execution_count": null,
   "outputs": [],
   "source": [
    "val totalPossibleWaysOneCanwin = times.zip(distances) { time, distance -> time to distance }\n",
    "    .map { race ->\n",
    "        var possibleWaysOneCanwin = 0\n",
    "        val (time, distance) = race\n",
    "        for (holdTime in 0 until time) {\n",
    "            val gainedSpeed = holdTime * 1\n",
    "            val timeLeftAfterhold = time - holdTime\n",
    "            val totaldistanceBoatCanMove = gainedSpeed * timeLeftAfterhold\n",
    "            if (totaldistanceBoatCanMove > distance) {\n",
    "                possibleWaysOneCanwin++\n",
    "            }\n",
    "        }\n",
    "\n",
    "        possibleWaysOneCanwin\n",
    "    }\n",
    "\n",
    "totalPossibleWaysOneCanwin"
   ],
   "metadata": {
    "collapsed": false,
    "is_executing": true
   }
  },
  {
   "cell_type": "code",
   "execution_count": null,
   "outputs": [],
   "source": [
    "val sumOfTotalPossibleWaysOneCanwin = totalPossibleWaysOneCanwin.reduce { acc, i -> acc * i }"
   ],
   "metadata": {
    "collapsed": false,
    "is_executing": true
   }
  },
  {
   "cell_type": "code",
   "execution_count": null,
   "outputs": [],
   "source": [
    "println(\"Possible ways one can win: $sumOfTotalPossibleWaysOneCanwin\")"
   ],
   "metadata": {
    "collapsed": false,
    "is_executing": true
   }
  },
  {
   "cell_type": "markdown",
   "source": [
    "# Part 2"
   ],
   "metadata": {
    "collapsed": false
   }
  },
  {
   "cell_type": "code",
   "execution_count": null,
   "outputs": [],
   "source": [
    "val cleanData2 = input.map { it.substringAfter(\":\") }\n",
    "    .map { it.trim() }\n",
    "    .map { it.replace(\"\\\\s+\".toRegex(),\"\") }\n",
    "    .map { it.toLong() }"
   ],
   "metadata": {
    "collapsed": false,
    "is_executing": true
   }
  },
  {
   "cell_type": "code",
   "execution_count": null,
   "outputs": [],
   "source": [
    "cleanData2"
   ],
   "metadata": {
    "collapsed": false,
    "is_executing": true
   }
  },
  {
   "cell_type": "code",
   "execution_count": null,
   "outputs": [],
   "source": [
    "val (time2,distance2)  = cleanData2"
   ],
   "metadata": {
    "collapsed": false,
    "is_executing": true
   }
  },
  {
   "cell_type": "code",
   "execution_count": null,
   "outputs": [],
   "source": [
    "val count = (0 until time2).count {i -> (time2 - i) * i  > distance2}\n",
    "count"
   ],
   "metadata": {
    "collapsed": false,
    "is_executing": true
   }
  },
  {
   "cell_type": "code",
   "execution_count": null,
   "outputs": [],
   "source": [],
   "metadata": {
    "collapsed": false,
    "is_executing": true
   }
  }
 ],
 "metadata": {
  "kernelspec": {
   "display_name": "Kotlin",
   "language": "kotlin",
   "name": "kotlin"
  },
  "language_info": {
   "name": "kotlin",
   "version": "1.8.20",
   "mimetype": "text/x-kotlin",
   "file_extension": ".kt",
   "pygments_lexer": "kotlin",
   "codemirror_mode": "text/x-kotlin",
   "nbconvert_exporter": ""
  },
  "ktnbPluginMetadata": {
   "projectLibraries": []
  }
 },
 "nbformat": 4,
 "nbformat_minor": 0
}
