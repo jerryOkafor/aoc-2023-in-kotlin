{
 "cells": [
  {
   "cell_type": "code",
   "execution_count": 121,
   "outputs": [
    {
     "data": {
      "text/plain": "[Time:        59     70     78     78, Distance:   430   1218   1213   1276]"
     },
     "execution_count": 121,
     "metadata": {},
     "output_type": "execute_result"
    }
   ],
   "source": [
    "val input = readInput(\"Day06\")\n",
    "input"
   ],
   "metadata": {
    "collapsed": false,
    "ExecuteTime": {
     "end_time": "2023-12-06T06:11:57.605244Z",
     "start_time": "2023-12-06T06:11:57.533631Z"
    }
   }
  },
  {
   "cell_type": "code",
   "execution_count": 122,
   "outputs": [
    {
     "data": {
      "text/plain": "[[59, 70, 78, 78], [430, 1218, 1213, 1276]]"
     },
     "execution_count": 122,
     "metadata": {},
     "output_type": "execute_result"
    }
   ],
   "source": [
    "val cleanData = input.map { it.substringAfter(\":\") }\n",
    "    .map { it.trim() }\n",
    "    .map { it.split(\"\\\\s+\".toRegex()).map { it.trim().toInt() } }\n",
    "\n",
    "cleanData"
   ],
   "metadata": {
    "collapsed": false,
    "ExecuteTime": {
     "end_time": "2023-12-06T06:11:57.745055Z",
     "start_time": "2023-12-06T06:11:57.590013Z"
    }
   }
  },
  {
   "cell_type": "code",
   "execution_count": 123,
   "outputs": [
    {
     "data": {
      "text/plain": "[59, 70, 78, 78]"
     },
     "execution_count": 123,
     "metadata": {},
     "output_type": "execute_result"
    }
   ],
   "source": [
    "val (times, distances) = cleanData\n",
    "\n",
    "times"
   ],
   "metadata": {
    "collapsed": false,
    "ExecuteTime": {
     "end_time": "2023-12-06T06:11:57.828948Z",
     "start_time": "2023-12-06T06:11:57.740163Z"
    }
   }
  },
  {
   "cell_type": "code",
   "execution_count": 124,
   "outputs": [
    {
     "data": {
      "text/plain": "[430, 1218, 1213, 1276]"
     },
     "execution_count": 124,
     "metadata": {},
     "output_type": "execute_result"
    }
   ],
   "source": [
    "distances"
   ],
   "metadata": {
    "collapsed": false,
    "ExecuteTime": {
     "end_time": "2023-12-06T06:11:57.948002Z",
     "start_time": "2023-12-06T06:11:57.807106Z"
    }
   }
  },
  {
   "cell_type": "code",
   "execution_count": 125,
   "outputs": [
    {
     "data": {
      "text/plain": "[42, 5, 35, 31]"
     },
     "execution_count": 125,
     "metadata": {},
     "output_type": "execute_result"
    }
   ],
   "source": [
    "val totalPossibleWaysOneCanwin = times.zip(distances) { time, distance -> time to distance }\n",
    "    .map { race ->\n",
    "        var possibleWaysOneCanwin = 0\n",
    "        val (time, distance) = race\n",
    "        for (holdTime in 0..time) {\n",
    "            val gainedSpeed = holdTime * 1\n",
    "            val timeLeftAfterhold = time - holdTime\n",
    "            val totaldistanceBoatCanMove = gainedSpeed * timeLeftAfterhold\n",
    "            if (totaldistanceBoatCanMove > distance) {\n",
    "                possibleWaysOneCanwin++\n",
    "            }\n",
    "        }\n",
    "\n",
    "        possibleWaysOneCanwin\n",
    "    }\n",
    "\n",
    "totalPossibleWaysOneCanwin"
   ],
   "metadata": {
    "collapsed": false,
    "ExecuteTime": {
     "end_time": "2023-12-06T06:11:58.048922Z",
     "start_time": "2023-12-06T06:11:57.848532Z"
    }
   }
  },
  {
   "cell_type": "code",
   "execution_count": 126,
   "outputs": [],
   "source": [
    "val sumOfTotalPossibleWaysOneCanwin = totalPossibleWaysOneCanwin.reduce { acc, i -> acc * i }"
   ],
   "metadata": {
    "collapsed": false,
    "ExecuteTime": {
     "end_time": "2023-12-06T06:11:58.161930Z",
     "start_time": "2023-12-06T06:11:58.044885Z"
    }
   }
  },
  {
   "cell_type": "code",
   "execution_count": 127,
   "outputs": [
    {
     "name": "stdout",
     "output_type": "stream",
     "text": [
      "Possible ways one can win: 227850\n"
     ]
    }
   ],
   "source": [
    "println(\"Possible ways one can win: $sumOfTotalPossibleWaysOneCanwin\")"
   ],
   "metadata": {
    "collapsed": false,
    "ExecuteTime": {
     "end_time": "2023-12-06T06:11:58.243001Z",
     "start_time": "2023-12-06T06:11:58.151591Z"
    }
   }
  },
  {
   "cell_type": "markdown",
   "source": [
    "# Part 2"
   ],
   "metadata": {
    "collapsed": false
   }
  },
  {
   "cell_type": "code",
   "execution_count": 128,
   "outputs": [],
   "source": [
    "val cleanData2 = input.map { it.substringAfter(\":\") }\n",
    "    .map { it.trim() }\n",
    "    .map { it.replace(\"\\\\s+\".toRegex(),\"\") }\n",
    "    .map { it.toLong() }"
   ],
   "metadata": {
    "collapsed": false,
    "ExecuteTime": {
     "end_time": "2023-12-06T06:11:58.430897Z",
     "start_time": "2023-12-06T06:11:58.232061Z"
    }
   }
  },
  {
   "cell_type": "code",
   "execution_count": 129,
   "outputs": [
    {
     "data": {
      "text/plain": "[59707878, 430121812131276]"
     },
     "execution_count": 129,
     "metadata": {},
     "output_type": "execute_result"
    }
   ],
   "source": [
    "cleanData2"
   ],
   "metadata": {
    "collapsed": false,
    "ExecuteTime": {
     "end_time": "2023-12-06T06:11:58.494729Z",
     "start_time": "2023-12-06T06:11:58.428555Z"
    }
   }
  },
  {
   "cell_type": "code",
   "execution_count": 130,
   "outputs": [],
   "source": [
    "val (time2,distance2)  = cleanData2"
   ],
   "metadata": {
    "collapsed": false,
    "ExecuteTime": {
     "end_time": "2023-12-06T06:11:58.570301Z",
     "start_time": "2023-12-06T06:11:58.489893Z"
    }
   }
  },
  {
   "cell_type": "code",
   "execution_count": 131,
   "outputs": [
    {
     "data": {
      "text/plain": "42948149"
     },
     "execution_count": 131,
     "metadata": {},
     "output_type": "execute_result"
    }
   ],
   "source": [
    "val count = (0..time2).count {i -> (time2 - i) * i  > distance2}\n",
    "count"
   ],
   "metadata": {
    "collapsed": false,
    "ExecuteTime": {
     "end_time": "2023-12-06T06:11:58.902305Z",
     "start_time": "2023-12-06T06:11:58.564847Z"
    }
   }
  },
  {
   "cell_type": "code",
   "execution_count": 132,
   "outputs": [],
   "source": [],
   "metadata": {
    "collapsed": false,
    "ExecuteTime": {
     "end_time": "2023-12-06T06:11:58.904489Z",
     "start_time": "2023-12-06T06:11:58.900250Z"
    }
   }
  }
 ],
 "metadata": {
  "kernelspec": {
   "display_name": "Kotlin",
   "language": "kotlin",
   "name": "kotlin"
  },
  "language_info": {
   "name": "kotlin",
   "version": "1.8.20",
   "mimetype": "text/x-kotlin",
   "file_extension": ".kt",
   "pygments_lexer": "kotlin",
   "codemirror_mode": "text/x-kotlin",
   "nbconvert_exporter": ""
  },
  "ktnbPluginMetadata": {
   "isAddProjectLibrariesToClasspath": false
  }
 },
 "nbformat": 4,
 "nbformat_minor": 0
}
