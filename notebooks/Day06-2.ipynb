{
 "cells": [
  {
   "cell_type": "markdown",
   "source": [
    "# Quadratic Formula Solution"
   ],
   "metadata": {
    "collapsed": false
   }
  },
  {
   "cell_type": "code",
   "execution_count": 22,
   "outputs": [
    {
     "data": {
      "text/plain": "[Time:        59     70     78     78, Distance:   430   1218   1213   1276]"
     },
     "execution_count": 22,
     "metadata": {},
     "output_type": "execute_result"
    }
   ],
   "source": [
    "val input = readInputForNotebook(\"Day06\")\n",
    "\n",
    "input"
   ],
   "metadata": {
    "collapsed": false,
    "ExecuteTime": {
     "end_time": "2023-12-07T01:03:49.460684Z",
     "start_time": "2023-12-07T01:03:49.364592Z"
    }
   }
  },
  {
   "cell_type": "code",
   "execution_count": 24,
   "outputs": [],
   "source": [
    "data class Race(val time: Long, val distance: Long) {\n",
    "    fun waysOnCanWin(): Long {\n",
    "        val root = sqrt(time * time - 4 * distance.toDouble())\n",
    "\n",
    "        val xMax = (time + root) / 2\n",
    "        val xMin = (time - root) / 2\n",
    "\n",
    "        return xMax.toLong() - xMin.toLong()\n",
    "    }\n",
    "}\n",
    "\n",
    "val processedData = input.map { it.substringAfter(\":\").trim().split(\"\\\\s++\".toRegex()).map { it.trim().toLong() } }\n",
    "    .let { (time, distance) -> time.zip(distance) }\n",
    "    .map { (time, distance) -> Race(time, distance) }"
   ],
   "metadata": {
    "collapsed": false,
    "ExecuteTime": {
     "end_time": "2023-12-07T01:04:46.834661Z",
     "start_time": "2023-12-07T01:04:46.379603Z"
    }
   }
  },
  {
   "cell_type": "markdown",
   "source": [
    "# Theory\n",
    "Given a race time $u$ and a record distance $r$, the goal is to gain speed $s$ for a time $<$ x to achieve a record time $>$ $r$.\n",
    "\n",
    "Let $t$ be the time (how long) we hold the speed button, then after $t$ time, the speed gained $s$ is simply $t$ * speed increase value $v$ (1 mi/ms)\n",
    "\n",
    "i.e\n",
    "</br>\n",
    "    $s = t * v  = tv$\n",
    "\n",
    "after $t$ time of holding the speed button, time left to travel  is\n",
    "</br>\n",
    "    $u - t$\n",
    "\n",
    "then max distance we can travel after holding the button for $t$ time is the product of speed gained $(s)$ and the time left for the race, i.e\n",
    "\n",
    "</br>\n",
    "    $y = (tv) * (u-t)$ = $tvu - t^2$\n",
    "\n",
    "since $v = 1$ millimeter per millisecond, then\n",
    "</br>\n",
    "    $y = tu - t^2$\n",
    "\n",
    "If we re-arrange the above equation, we have\n",
    "</br>\n",
    "    $t^2 - tu + y = 0 = t^2 -ut + y = 0$\n",
    "\n",
    "This is similar to the Quadratic equation that can be expressed as\n",
    "</br>\n",
    "    $ax^2 + bx + c = 0$\n",
    "\n",
    "where;\n",
    "</br>\n",
    "    $a = 1$, $b = -u$ and $c = y$\n",
    "\n",
    "If we apply the solutions of the quadratic equation, then we have: <br><br>\n",
    "</br>\n",
    "    $x  = \\dfrac {{-b \\pm \\sqrt{b^2 - 4ac} } } {2a}$\n",
    "\n",
    "In out terms,\n",
    "</br>\n",
    "    $x  = \\dfrac {{u \\pm \\sqrt{u^2 - 4y} } } {2}$\n",
    "\n",
    "\n",
    "Recall $x$ is the time $t$ hold the button, $u$ is the allowed race time and $y$ is the record distance.\n"
   ],
   "metadata": {
    "collapsed": false
   }
  },
  {
   "cell_type": "code",
   "execution_count": 25,
   "outputs": [
    {
     "data": {
      "text/plain": "[42, 5, 35, 31]"
     },
     "execution_count": 25,
     "metadata": {},
     "output_type": "execute_result"
    }
   ],
   "source": [
    "val waysOnecanWin = processedData.map {it.waysOnCanWin()}\n",
    "\n",
    "waysOnecanWin"
   ],
   "metadata": {
    "collapsed": false,
    "ExecuteTime": {
     "end_time": "2023-12-07T01:04:58.488343Z",
     "start_time": "2023-12-07T01:04:58.376115Z"
    }
   }
  },
  {
   "cell_type": "code",
   "execution_count": 26,
   "outputs": [],
   "source": [
    "val sumOfTotalPossibleWaysOneCanwin = waysOnecanWin.reduce(Long::times)"
   ],
   "metadata": {
    "collapsed": false,
    "ExecuteTime": {
     "end_time": "2023-12-07T01:04:59.921016Z",
     "start_time": "2023-12-07T01:04:59.684046Z"
    }
   }
  },
  {
   "cell_type": "code",
   "execution_count": 27,
   "outputs": [
    {
     "data": {
      "text/plain": "227850"
     },
     "execution_count": 27,
     "metadata": {},
     "output_type": "execute_result"
    }
   ],
   "source": [
    "sumOfTotalPossibleWaysOneCanwin"
   ],
   "metadata": {
    "collapsed": false,
    "ExecuteTime": {
     "end_time": "2023-12-07T01:05:01.421496Z",
     "start_time": "2023-12-07T01:05:01.369510Z"
    }
   }
  },
  {
   "cell_type": "markdown",
   "source": [
    "# Part 2"
   ],
   "metadata": {
    "collapsed": false
   }
  },
  {
   "cell_type": "code",
   "execution_count": 31,
   "outputs": [
    {
     "data": {
      "text/plain": "42948149"
     },
     "execution_count": 31,
     "metadata": {},
     "output_type": "execute_result"
    }
   ],
   "source": [
    "val processesData2 = input.map { it.substringAfter(\":\") }\n",
    "    .map { it.trim() }\n",
    "    .map { it.replace(\"\\\\s+\".toRegex(), \"\") }\n",
    "    .map { it.toLong() }.let {\n",
    "        val (time, distance) = it\n",
    "        Race(time, distance)\n",
    "    }\n",
    "\n",
    "processesData2.waysOnCanWin()"
   ],
   "metadata": {
    "collapsed": false,
    "ExecuteTime": {
     "end_time": "2023-12-07T01:06:12.058918Z",
     "start_time": "2023-12-07T01:06:11.811488Z"
    }
   }
  },
  {
   "cell_type": "code",
   "execution_count": 21,
   "outputs": [],
   "source": [],
   "metadata": {
    "collapsed": false,
    "ExecuteTime": {
     "end_time": "2023-12-07T01:03:15.064304Z",
     "start_time": "2023-12-07T01:03:15.055302Z"
    }
   }
  }
 ],
 "metadata": {
  "kernelspec": {
   "display_name": "Kotlin",
   "language": "kotlin",
   "name": "kotlin"
  },
  "language_info": {
   "name": "kotlin",
   "version": "1.8.20",
   "mimetype": "text/x-kotlin",
   "file_extension": ".kt",
   "pygments_lexer": "kotlin",
   "codemirror_mode": "text/x-kotlin",
   "nbconvert_exporter": ""
  },
  "ktnbPluginMetadata": {
   "isBuildProject": true
  }
 },
 "nbformat": 4,
 "nbformat_minor": 0
}
