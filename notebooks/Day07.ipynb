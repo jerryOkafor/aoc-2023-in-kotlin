{
 "cells": [
  {
   "cell_type": "markdown",
   "source": [
    "# Camel Card\n",
    "## Part 1"
   ],
   "metadata": {
    "collapsed": false
   }
  },
  {
   "cell_type": "code",
   "execution_count": 54,
   "outputs": [
    {
     "name": "stdout",
     "output_type": "stream",
     "text": [
      "32T3K -> OnePair(strenght=2)\n",
      "KTJJT -> TwoPair(strenght=3)\n",
      "KK677 -> TwoPair(strenght=3)\n",
      "T55J5 -> ThreeOfAkind(strenght=4)\n",
      "QQQJA -> ThreeOfAkind(strenght=4)\n"
     ]
    },
    {
     "data": {
      "text/plain": "Total win: 6440"
     },
     "execution_count": 54,
     "metadata": {},
     "output_type": "execute_result"
    }
   ],
   "source": [
    "val input = readInputForNotebook(\"Day07_test\")\n",
    "\n",
    "sealed interface CardType {\n",
    "    val strenght: Int\n",
    "\n",
    "    data class FiveOfAKind(override val strenght: Int = 7) : CardType\n",
    "    data class FourOfAKind(override val strenght: Int = 6) : CardType\n",
    "    data class FullHouse(override val strenght: Int = 5) : CardType\n",
    "    data class ThreeOfAkind(override val strenght: Int = 4) : CardType\n",
    "    data class TwoPair(override val strenght: Int = 3) : CardType\n",
    "    data class OnePair(override val strenght: Int = 2) : CardType\n",
    "    data class HighCard(override val strenght: Int = 1) : CardType\n",
    "}\n",
    "\n",
    "data class Hand(\n",
    "    val cardsStr: String,\n",
    "    val cards: List<Int>,\n",
    "    val cardsGroup: List<Int>,\n",
    "    val bid: Int,\n",
    "    val cardType: CardType\n",
    ") : Comparable<Hand> {\n",
    "    override fun compareTo(other: Hand): Int {\n",
    "        return cardType.strenght.compareTo(other.cardType.strenght)\n",
    "    }\n",
    "\n",
    "}\n",
    "\n",
    "var cards = mapOf(\n",
    "    'A' to 13,\n",
    "    'K' to 12,\n",
    "    'Q' to 11,\n",
    "    'J' to 10,\n",
    "    'T' to 9,\n",
    "    '9' to 8,\n",
    "    '8' to 7,\n",
    "    '7' to 6,\n",
    "    '6' to 5,\n",
    "    '5' to 4,\n",
    "    '4' to 3,\n",
    "    '3' to 2,\n",
    "    '2' to 1\n",
    ")\n",
    "\n",
    "fun List<Int>.toCardType(): CardType {\n",
    "    return when {\n",
    "        5 in this -> CardType.FiveOfAKind()\n",
    "        4 in this -> CardType.FiveOfAKind()\n",
    "        3 in this && 2 in this -> CardType.FullHouse()\n",
    "        3 in this -> CardType.ThreeOfAkind()\n",
    "        2 in this && 2 in (this - 2) -> CardType.TwoPair()\n",
    "        2 in this -> CardType.OnePair()\n",
    "        else -> CardType.HighCard()\n",
    "    }\n",
    "\n",
    "}\n",
    "\n",
    "val part1 = input.map { it.split(\" \") }.map { (cardsStr, bid) ->\n",
    "    val cards = cardsStr.map { card -> cards.get(card)!! }\n",
    "    val cardsGroup = cards.groupBy { it }.map { it.value.size }.sortedByDescending { it }\n",
    "\n",
    "    Hand(\n",
    "        cardsStr = cardsStr,\n",
    "        cards = cards,\n",
    "        cardsGroup = cardsGroup,\n",
    "        bid = bid.toInt(),\n",
    "        cardType = cardsGroup.toCardType(),\n",
    "    )\n",
    "\n",
    "}.sortedWith(\n",
    "    compareBy(\n",
    "        { it.cardsGroup[0] },\n",
    "        { it.cardsGroup[1] },\n",
    "        { it.cards[0] },\n",
    "        { it.cards[1] },\n",
    "        { it.cards[2] },\n",
    "        { it.cards[3] },\n",
    "        { it.cards[4] },\n",
    "    )\n",
    ").onEach {\n",
    "    print(\"${it.cardsStr} -> ${it.cardType}\\n\")\n",
    "}\n",
    "    .mapIndexed { index, hand -> (index + 1) * hand.bid }\n",
    "    .sum()\n",
    "\n",
    "\"Total win: $part1\"\n"
   ],
   "metadata": {
    "collapsed": false,
    "ExecuteTime": {
     "end_time": "2023-12-08T00:54:49.106260Z",
     "start_time": "2023-12-08T00:54:48.795508Z"
    }
   }
  },
  {
   "cell_type": "markdown",
   "source": [
    "## Part 2"
   ],
   "metadata": {
    "collapsed": false
   }
  },
  {
   "cell_type": "code",
   "execution_count": 60,
   "outputs": [
    {
     "name": "stdout",
     "output_type": "stream",
     "text": [
      "[2, 1, 1, 1]\n",
      "[2, 1, 1, 1]\n",
      "[2, 1, 1, 1]\n",
      "[2, 1, 1, 1]\n",
      "[2, 1, 1, 1]\n",
      "[2, 1, 1, 1]\n",
      "[2, 1, 1, 1]\n",
      "[2, 1, 1, 1]\n",
      "[2, 1, 1, 1]\n",
      "[2, 1, 1, 1]\n",
      "[2, 1, 1, 1]\n",
      "[2, 1, 1, 1]\n",
      "[3, 1, 1]\n",
      "[3, 1, 1]\n",
      "[3, 1, 1]\n",
      "[3, 1, 1]\n",
      "[3, 1, 1]\n",
      "[3, 1, 1]\n",
      "[3, 1, 1]\n",
      "[3, 1, 1]\n",
      "[3, 1, 1]\n",
      "[3, 1, 1]\n",
      "[3, 2]\n",
      "[4, 1]\n",
      "[2, 2, 1]\n",
      "[2, 2, 1]\n",
      "[2, 2, 1]\n",
      "[2, 2, 1]\n",
      "[2, 2, 1]\n",
      "[2, 2, 1]\n",
      "[2, 2, 1]\n",
      "[2, 2, 1]\n",
      "[2, 2, 1]\n",
      "[2, 2, 1]\n",
      "[2, 2, 1]\n",
      "[2, 2, 1]\n",
      "[2, 2, 1]\n",
      "[2, 2, 1]\n",
      "[2, 2, 1]\n",
      "[2, 2, 1]\n",
      "[2, 2, 1]\n",
      "[2, 2, 1]\n",
      "[2, 2, 1]\n",
      "[2, 2, 1]\n",
      "[2, 2, 1]\n",
      "[2, 2, 1]\n",
      "[3, 2]\n",
      "[4, 1]\n",
      "[3, 1, 1]\n",
      "[3, 1, 1]\n",
      "[3, 1, 1]\n",
      "[3, 1, 1]\n",
      "[3, 1, 1]\n",
      "[3, 1, 1]\n",
      "[3, 1, 1]\n",
      "[3, 1, 1]\n",
      "[3, 1, 1]\n",
      "[3, 1, 1]\n",
      "[3, 2]\n",
      "[4, 1]\n",
      "32T3K -> OnePair(strenght=2)\n",
      "KK677 -> TwoPair(strenght=3)\n",
      "T55J5 -> FiveOfAKind(strenght=7)\n",
      "QQQJA -> FiveOfAKind(strenght=7)\n",
      "KTJJT -> FiveOfAKind(strenght=7)\n"
     ]
    },
    {
     "data": {
      "text/plain": "5905"
     },
     "execution_count": 60,
     "metadata": {},
     "output_type": "execute_result"
    }
   ],
   "source": [
    "var cards = mapOf(\n",
    "    'A' to 13,\n",
    "    'K' to 12,\n",
    "    'Q' to 11,\n",
    "    'T' to 10,\n",
    "    '9' to 9,\n",
    "    '8' to 8,\n",
    "    '7' to 7,\n",
    "    '6' to 6,\n",
    "    '5' to 5,\n",
    "    '4' to 4,\n",
    "    '3' to 3,\n",
    "    '2' to 2,\n",
    "    'J' to 1\n",
    ")\n",
    "\n",
    "val part2 = input.map { it.split(\" \") }.map { (cardsStr, bid) ->\n",
    "    val cards = cardsStr.map { card -> cards.get(card)!! }\n",
    "\n",
    "    //Find the highest value for all possible placements of the the joker, card J\n",
    "    //Use that as the group\n",
    "    val cardsGroup = (2..13)\n",
    "        .map { joker ->\n",
    "            cards.map { if (it == 1) joker else it }\n",
    "                .groupBy { it }.map { it.value.size }\n",
    "                .sortedByDescending { it }\n",
    "        }\n",
    "        .sortedWith(compareBy({ it[0] }, { it.getOrNull(1) }))\n",
    "        .onEach(::println)\n",
    "        .last()\n",
    "\n",
    "    Hand(\n",
    "        cardsStr = cardsStr,\n",
    "        cards = cards,\n",
    "        cardsGroup = cardsGroup,\n",
    "        bid = bid.toInt(),\n",
    "        cardType = cardsGroup.toCardType(),\n",
    "    )\n",
    "\n",
    "}\n",
    "    .sortedWith(\n",
    "        compareBy(\n",
    "            { it.cardsGroup[0] },\n",
    "            { it.cardsGroup.getOrNull(1) },\n",
    "            { it.cards[0] },\n",
    "            { it.cards[1] },\n",
    "            { it.cards[2] },\n",
    "            { it.cards[3] },\n",
    "            { it.cards[4] },\n",
    "        )\n",
    "    )\n",
    "    .onEach {\n",
    "        print(\"${it.cardsStr} -> ${it.cardType}\\n\")\n",
    "    }\n",
    "    .mapIndexed { index, hand -> (index + 1) * hand.bid }\n",
    "    .sum()\n",
    "\n",
    "part2"
   ],
   "metadata": {
    "collapsed": false,
    "ExecuteTime": {
     "end_time": "2023-12-08T00:56:32.656048Z",
     "start_time": "2023-12-08T00:56:32.304050Z"
    }
   }
  },
  {
   "cell_type": "code",
   "execution_count": 56,
   "outputs": [],
   "source": [],
   "metadata": {
    "collapsed": false,
    "ExecuteTime": {
     "end_time": "2023-12-08T00:54:49.511240Z",
     "start_time": "2023-12-08T00:54:49.485435Z"
    }
   }
  }
 ],
 "metadata": {
  "kernelspec": {
   "display_name": "Kotlin",
   "language": "kotlin",
   "name": "kotlin"
  },
  "language_info": {
   "name": "kotlin",
   "version": "1.8.20",
   "mimetype": "text/x-kotlin",
   "file_extension": ".kt",
   "pygments_lexer": "kotlin",
   "codemirror_mode": "text/x-kotlin",
   "nbconvert_exporter": ""
  },
  "ktnbPluginMetadata": {
   "projectDependencies": true
  }
 },
 "nbformat": 4,
 "nbformat_minor": 0
}
